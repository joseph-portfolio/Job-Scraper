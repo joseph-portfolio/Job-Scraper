{
 "cells": [
  {
   "cell_type": "markdown",
   "id": "ac4eb8b9",
   "metadata": {},
   "source": [
    "# Job Hunting Aggregator\n",
    "\n",
    "Scrape all jobs from: https://ph.indeed.com/?r=us, https://ph.jobstreet.com/, https://www.linkedin.com/"
   ]
  },
  {
   "cell_type": "code",
   "execution_count": 12,
   "id": "735754c5",
   "metadata": {},
   "outputs": [],
   "source": [
    "from bs4 import BeautifulSoup\n",
    "from seleniumbase import SB\n",
    "import pandas as pd"
   ]
  },
  {
   "cell_type": "code",
   "execution_count": 13,
   "id": "cb403f06",
   "metadata": {},
   "outputs": [],
   "source": [
    "def get_url (indeed_url, job_title, location, job_type):\n",
    "    template = '{}/jobs?q={}&l={}&sc={}'\n",
    "    url = template.format(indeed_url,job_title, location, job_type)\n",
    "    return url"
   ]
  },
  {
   "cell_type": "code",
   "execution_count": 16,
   "id": "0357af27",
   "metadata": {},
   "outputs": [],
   "source": [
    "df = pd.DataFrame({'Job Title': [''],  'Company Name': [''], 'Location': [''], 'Salary Range': [''], 'Summary': [''], 'Link': ['']})"
   ]
  },
  {
   "cell_type": "code",
   "execution_count": null,
   "id": "755c165c",
   "metadata": {},
   "outputs": [
    {
     "name": "stdout",
     "output_type": "stream",
     "text": [
      "Text Found\n",
      "Junior Developer - Angeles City (Fresh Grads Welcome!)\n",
      "https://ph.indeed.com/rc/clk?jk=a89947b47c89507b&bb=ul2LWykrAcx6Whg2GvrtOAKSGuppk1K_ODyX--eVmWF3plNGht_F_-yE1zbpWeUfWOmS_x3A_kl45fPjMMLAAbpyg9wZK8p1HqeYTXIzwi4Sol-gmK7jLLwaRiEPQR69u_w1nBxRKtU%3D&xkcb=SoDD67M3y5v-AgS01x0LbzkdCdPP&fccid=cf163e7740719533&cmp=SiteHost&ti=New+Graduate&vjs=3\n",
      "SiteHost\n",
      "Angeles 2009 P03\n",
      "PHP 30,000 - PHP 150,000 a month\n",
      "We effectively use collaboration tools and techniques for efficient teamwork, ensuring constant communication as we collectively tackle problem-solving.\n"
     ]
    }
   ],
   "source": [
    "indeed_url = \"https://ph.indeed.com\"\n",
    "title = 'python'\n",
    "location = 'philippines'\n",
    "filter = '0kf%3Aattr%287EQCZ%29%3B'\n",
    "\n",
    "with SB(uc_cdp=True, incognito=True) as sb:\n",
    "    while True:  # Loop until the text is found\n",
    "        url = get_url(indeed_url, title, location, filter)\n",
    "        sb.open(url)\n",
    "        sb.uc_gui_click_captcha()\n",
    "        sb.sleep(20) # Adjust values depending on load time\n",
    "\n",
    "        try:\n",
    "            sb.assert_text(\"Find jobs\", \"button.yosegi-InlineWhatWhere-primaryButton[type='submit']\")\n",
    "            print(\"Text Found\")\n",
    "            break  # Exit loop if text is found\n",
    "        except Exception:\n",
    "            print(\"Text not found. Retrying...\")\n",
    "            continue  # Retry from sb.open(url)\n",
    "\n",
    "    raw_html = sb.get_page_source()\n",
    "    soup = BeautifulSoup(raw_html, 'lxml')\n",
    "    cards = soup.find_all('div', 'job_seen_beacon')\n",
    "    \n",
    "    # Testing for single record\n",
    "\n",
    "    for card in cards:\n",
    "        td_tag = card.table.tbody.tr.td\n",
    "\n",
    "        job_div = td_tag.find('div', {'class','css-pt3vth e37uo190'}).h2.a\n",
    "        job_title = job_div.span.get('title')\n",
    "        job_url = indeed_url + job_div.get('href')\n",
    "\n",
    "        company_div = td_tag.find('div', {'class','company_location css-i375s1 e37uo190'})\n",
    "        company_name = company_div.find('div', {'class','css-1afmp4o e37uo190'}).span.text.strip()\n",
    "        company_location = company_div.find('div', {'class','css-1restlb eu4oa1w0'}).text.strip()\n",
    "\n",
    "        metadata_div = td_tag.find('div', {'class','jobMetaDataGroup css-qspwa8 eu4oa1w0'}).ul\n",
    "        salary_range = metadata_div.find('li', {'class','css-u74ql7 eu4oa1w0'}).div.div.text.strip()\n",
    "\n",
    "        summary = card.find('div',{'class', 'underShelfFooter'}).div.div.ul.li.text.strip()\n",
    "\n",
    "        new_data = pd.DataFrame({'Job Title': [job_title],  'Company Name': [company_name], 'Location': [company_location], 'Salary Range': [salary_range], 'Summary': [summary], 'Link': [job_url]})\n",
    "        df = pd.concat([df, new_data])\n",
    "\n",
    "        # print(job_title)\n",
    "        # print(job_url)\n",
    "        # print(company_name)\n",
    "        # print(company_location)\n",
    "        # print(salary_range)\n",
    "        # print(summary)"
   ]
  }
 ],
 "metadata": {
  "kernelspec": {
   "display_name": ".venv",
   "language": "python",
   "name": "python3"
  },
  "language_info": {
   "codemirror_mode": {
    "name": "ipython",
    "version": 3
   },
   "file_extension": ".py",
   "mimetype": "text/x-python",
   "name": "python",
   "nbconvert_exporter": "python",
   "pygments_lexer": "ipython3",
   "version": "3.13.3"
  }
 },
 "nbformat": 4,
 "nbformat_minor": 5
}
